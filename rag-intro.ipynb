{
 "cells": [
  {
   "cell_type": "code",
   "execution_count": null,
   "id": "91cb9fe6-78d1-43e7-a1e0-1198618acb71",
   "metadata": {},
   "outputs": [],
   "source": []
  }
 ],
 "metadata": {
  "kernelspec": {
   "display_name": "",
   "name": ""
  },
  "language_info": {
   "name": ""
  }
 },
 "nbformat": 4,
 "nbformat_minor": 5
}
